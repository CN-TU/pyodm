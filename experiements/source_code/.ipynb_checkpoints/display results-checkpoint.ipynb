{
 "cells": [
  {
   "cell_type": "code",
   "execution_count": 1,
   "metadata": {},
   "outputs": [],
   "source": [
    "import numpy as np"
   ]
  },
  {
   "cell_type": "code",
   "execution_count": 2,
   "metadata": {},
   "outputs": [],
   "source": [
    "res = np.load('../results/anomaly_detection/ODM_RES.npy')"
   ]
  },
  {
   "cell_type": "code",
   "execution_count": 4,
   "metadata": {},
   "outputs": [
    {
     "data": {
      "text/plain": [
       "(5, 9, 4)"
      ]
     },
     "execution_count": 4,
     "metadata": {},
     "output_type": "execute_result"
    }
   ],
   "source": [
    "res.shape"
   ]
  },
  {
   "cell_type": "code",
   "execution_count": 16,
   "metadata": {},
   "outputs": [],
   "source": [
    "with open('somefile.txt', 'a') as the_file:\n",
    "    for r, rate in enumerate([0.5, 1, 5, 10]):\n",
    "        for i, algorithm in enumerate(['ODM', 'RS', 'SDO', 'KMC', 'WGM', 'GNG']):\n",
    "            data = np.load('../results/anomaly_detection/{}_RES.npy'.format(algorithm))\n",
    "            line = \"{} & {} & \".format(algorithm, rate)\n",
    "            for score in range(9):\n",
    "                line += \"{:.2f} \\pm {:.2f} & \".format(np.mean(res[:,score,rate]), np.std(res[:,score,rate]))\n",
    "            the_file.write(line)\n",
    "            the_file.write('\\n\\midrule\\n')\n",
    "        "
   ]
  },
  {
   "cell_type": "code",
   "execution_count": 12,
   "metadata": {},
   "outputs": [
    {
     "data": {
      "text/plain": [
       "array([0.22615536, 0.26229508, 0.74280062, 0.70175439, 0.29834254])"
      ]
     },
     "execution_count": 12,
     "metadata": {},
     "output_type": "execute_result"
    }
   ],
   "source": [
    "res[:,0,0]"
   ]
  },
  {
   "cell_type": "code",
   "execution_count": null,
   "metadata": {},
   "outputs": [],
   "source": []
  }
 ],
 "metadata": {
  "kernelspec": {
   "display_name": "Python 3",
   "language": "python",
   "name": "python3"
  },
  "language_info": {
   "codemirror_mode": {
    "name": "ipython",
    "version": 3
   },
   "file_extension": ".py",
   "mimetype": "text/x-python",
   "name": "python",
   "nbconvert_exporter": "python",
   "pygments_lexer": "ipython3",
   "version": "3.5.3"
  }
 },
 "nbformat": 4,
 "nbformat_minor": 4
}
